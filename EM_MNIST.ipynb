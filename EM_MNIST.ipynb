{
  "nbformat": 4,
  "nbformat_minor": 0,
  "metadata": {
    "colab": {
      "name": "EM_MNIST.ipynb",
      "provenance": []
    },
    "kernelspec": {
      "name": "python3",
      "display_name": "Python 3"
    }
  },
  "cells": [
    {
      "cell_type": "markdown",
      "metadata": {
        "id": "YGNdbYLAOIM0",
        "colab_type": "text"
      },
      "source": [
        ""
      ]
    },
    {
      "cell_type": "code",
      "metadata": {
        "id": "SoJcrSPZQQFd",
        "colab_type": "code",
        "colab": {}
      },
      "source": [
        "import numpy as np\n",
        "import random\n",
        "import matplotlib.pyplot as plt\n",
        "from scipy.stats import multivariate_normal\n",
        "import scipy.io\n",
        "\n",
        "%matplotlib inline"
      ],
      "execution_count": 0,
      "outputs": []
    },
    {
      "cell_type": "markdown",
      "metadata": {
        "id": "IQCpTx_RSkmR",
        "colab_type": "text"
      },
      "source": [
        "**Load Data**"
      ]
    },
    {
      "cell_type": "code",
      "metadata": {
        "id": "vNJLaYdMSnYP",
        "colab_type": "code",
        "outputId": "d1f337b6-5f71-459e-cb7c-59abe5c2468f",
        "colab": {
          "base_uri": "https://localhost:8080/",
          "height": 34
        }
      },
      "source": [
        "data = scipy.io.loadmat('/content/sample_data/mnist_small.mat')\n",
        "X = data['X']\n",
        "Y = data['Y']\n",
        "\n",
        "Y.shape"
      ],
      "execution_count": 27,
      "outputs": [
        {
          "output_type": "execute_result",
          "data": {
            "text/plain": [
              "(10000, 1)"
            ]
          },
          "metadata": {
            "tags": []
          },
          "execution_count": 27
        }
      ]
    },
    {
      "cell_type": "markdown",
      "metadata": {
        "id": "-0vHMZVcSoCm",
        "colab_type": "text"
      },
      "source": [
        "**Expectation step**\n"
      ]
    },
    {
      "cell_type": "code",
      "metadata": {
        "id": "wVISxOF9k-hs",
        "colab_type": "code",
        "colab": {}
      },
      "source": [
        "def Expectation(mu, pk, var2, X):\n",
        "  [N, D] = X.shape\n",
        "  K=10\n",
        "  for n in range(N):\n",
        "    for k in range(K):\n",
        "      #compute the log of numerator of posterior\n",
        "      z[n][k] = np.log(pk[k]) - (np.linalg.norm(X[n] - mu[k])**2/(2*var2))\n",
        "\n",
        "    maxZ = np.max(z[n])\n",
        "    z[n] = np.exp(z[n] - maxZ - np.log(np.sum(np.exp(z[n] - maxZ)))) \n",
        "\n",
        "  return z     "
      ],
      "execution_count": 0,
      "outputs": []
    },
    {
      "cell_type": "markdown",
      "metadata": {
        "id": "UyXPTN-5_lqY",
        "colab_type": "text"
      },
      "source": [
        "**Maximization step**"
      ]
    },
    {
      "cell_type": "code",
      "metadata": {
        "id": "e0n_yWwn_xNZ",
        "colab_type": "code",
        "colab": {}
      },
      "source": [
        "def Maximisation(mu, pk, var2, X, z):\n",
        " [N, D] = X.shape\n",
        " K=10 \n",
        " nk = np.sum(z, axis=0)\n",
        " # re-estimate pk\n",
        " pk = nk/N\n",
        "        \n",
        " # re-estimate the variance\n",
        " mu = z.T@X \n",
        " mu = np.array([mu[k]/nk[k] for k in range(K)])\n",
        "\n",
        " # re-estimate the variance\n",
        " var2 = np.sum(z@np.square(X - mu))/(N*D)\n",
        "\n",
        " return mu, pk, z, var2"
      ],
      "execution_count": 0,
      "outputs": []
    },
    {
      "cell_type": "markdown",
      "metadata": {
        "id": "cUf2iBHBF_BR",
        "colab_type": "text"
      },
      "source": [
        "**Implementation**"
      ]
    },
    {
      "cell_type": "code",
      "metadata": {
        "id": "H1hG6jhZGCrR",
        "colab_type": "code",
        "colab": {
          "base_uri": "https://localhost:8080/",
          "height": 1000
        },
        "outputId": "7c4f75ee-f1b6-4cf4-a2b3-3b87511b5213"
      },
      "source": [
        "    [N, D] = X.shape\n",
        "    K = 10\n",
        "    numIter = 200 \n",
        "    \n",
        "    var2 = 1 \n",
        "    \n",
        "    pk = np.ones(K) / K \n",
        "    \n",
        "    mu = np.random.rand(K, D) \n",
        "    z = np.zeros((N, K))\n",
        "\n",
        "    for iteration in range(numIter):\n",
        "      z = Expectation(mu, pk, var2, X)\n",
        "      mu, pk, z, var2 = Maximisation(mu, pk, var2, X, z)\n",
        "      \n",
        "    nk = np.sum(z, axis=0)\n",
        "\n",
        "    for i in range(K):\n",
        "        plt.imshow(mu[i].reshape((28, 28)), cmap='gray')\n",
        "        print(nk[i])\n",
        "        plt.show()\n"
      ],
      "execution_count": 45,
      "outputs": [
        {
          "output_type": "stream",
          "text": [
            "761.4063451512259\n"
          ],
          "name": "stdout"
        },
        {
          "output_type": "display_data",
          "data": {
            "image/png": "[encoded data removed]",
            "text/plain": [
              "<Figure size 432x288 with 1 Axes>"
            ]
          },
          "metadata": {
            "tags": []
          }
        },
        {
          "output_type": "stream",
          "text": [
            "761.9967532850932\n"
          ],
          "name": "stdout"
        },
        {
          "output_type": "display_data",
          "data": {
            "image/png": "[encoded data removed]",
            "text/plain": [
              "<Figure size 432x288 with 1 Axes>"
            ]
          },
          "metadata": {
            "tags": []
          }
        },
        {
          "output_type": "stream",
          "text": [
            "709.6665943653521\n"
          ],
          "name": "stdout"
        },
        {
          "output_type": "display_data",
          "data": {
            "image/png": "[encoded data removed]",
            "text/plain": [
              "<Figure size 432x288 with 1 Axes>"
            ]
          },
          "metadata": {
            "tags": []
          }
        },
        {
          "output_type": "stream",
          "text": [
            "889.6191621402455\n"
          ],
          "name": "stdout"
        },
        {
          "output_type": "display_data",
          "data": {
            "image/png": "[encoded data removed]",
            "text/plain": [
              "<Figure size 432x288 with 1 Axes>"
            ]
          },
          "metadata": {
            "tags": []
          }
        },
        {
          "output_type": "stream",
          "text": [
            "1488.0964964359766\n"
          ],
          "name": "stdout"
        },
        {
          "output_type": "display_data",
          "data": {
            "image/png": "[encoded data removed]",
            "text/plain": [
              "<Figure size 432x288 with 1 Axes>"
            ]
          },
          "metadata": {
            "tags": []
          }
        },
        {
          "output_type": "stream",
          "text": [
            "790.8609586216633\n"
          ],
          "name": "stdout"
        },
        {
          "output_type": "display_data",
          "data": {
            "image/png": "[encoded data removed]",
            "text/plain": [
              "<Figure size 432x288 with 1 Axes>"
            ]
          },
          "metadata": {
            "tags": []
          }
        },
        {
          "output_type": "stream",
          "text": [
            "1219.6243993631056\n"
          ],
          "name": "stdout"
        },
        {
          "output_type": "display_data",
          "data": {
            "image/png": "[encoded data removed]",
            "text/plain": [
              "<Figure size 432x288 with 1 Axes>"
            ]
          },
          "metadata": {
            "tags": []
          }
        },
        {
          "output_type": "stream",
          "text": [
            "1456.591517810134\n"
          ],
          "name": "stdout"
        },
        {
          "output_type": "display_data",
          "data": {
            "image/png": "[encoded data removed]",
            "text/plain": [
              "<Figure size 432x288 with 1 Axes>"
            ]
          },
          "metadata": {
            "tags": []
          }
        },
        {
          "output_type": "stream",
          "text": [
            "997.9455312346121\n"
          ],
          "name": "stdout"
        },
        {
          "output_type": "display_data",
          "data": {
            "image/png": "[encoded data removed]",
            "text/plain": [
              "<Figure size 432x288 with 1 Axes>"
            ]
          },
          "metadata": {
            "tags": []
          }
        },
        {
          "output_type": "stream",
          "text": [
            "924.1922415925895\n"
          ],
          "name": "stdout"
        },
        {
          "output_type": "display_data",
          "data": {
            "image/png": "[encoded data removed]",
            "text/plain": [
              "<Figure size 432x288 with 1 Axes>"
            ]
          },
          "metadata": {
            "tags": []
          }
        }
      ]
    },
    {
      "cell_type": "code",
      "metadata": {
        "id": "pG72QimDeSXZ",
        "colab_type": "code",
        "colab": {
          "base_uri": "https://localhost:8080/",
          "height": 67
        },
        "outputId": "d8dc1625-deb7-47a8-a822-735dc078bd66"
      },
      "source": [
        ""
      ],
      "execution_count": 44,
      "outputs": [
        {
          "output_type": "execute_result",
          "data": {
            "text/plain": [
              "array([1684.64030286,  791.87698289, 1615.20638342,  444.05764931,\n",
              "        434.46535668, 1256.71136136, 1237.84064945,  862.82704985,\n",
              "       1309.34040893,  363.03385523])"
            ]
          },
          "metadata": {
            "tags": []
          },
          "execution_count": 44
        }
      ]
    }
  ]
}